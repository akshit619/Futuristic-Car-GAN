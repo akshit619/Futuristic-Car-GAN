{
  "nbformat": 4,
  "nbformat_minor": 0,
  "metadata": {
    "colab": {
      "name": "Latent Code ResNet.ipynb",
      "provenance": []
    },
    "kernelspec": {
      "name": "python3",
      "display_name": "Python 3"
    },
    "language_info": {
      "name": "python"
    }
  },
  "cells": [
    {
      "cell_type": "code",
      "execution_count": null,
      "metadata": {
        "id": "m1RufaMVC4iN"
      },
      "outputs": [],
      "source": [
        "import numpy as np\n",
        "import tensorflow as tf\n",
        "import matplotlib.pyplot as plt"
      ]
    },
    {
      "cell_type": "code",
      "source": [
        "! git clone https://github.com/acoadmarmon/resnet18-tensorflow.git"
      ],
      "metadata": {
        "colab": {
          "base_uri": "https://localhost:8080/"
        },
        "id": "-MohRoedq2J8",
        "outputId": "9c3b0091-87d0-4fc3-d502-9cd66e2ffe6d"
      },
      "execution_count": null,
      "outputs": [
        {
          "output_type": "stream",
          "name": "stdout",
          "text": [
            "Cloning into 'resnet18-tensorflow'...\n",
            "remote: Enumerating objects: 18, done.\u001b[K\n",
            "remote: Counting objects: 100% (18/18), done.\u001b[K\n",
            "remote: Compressing objects: 100% (17/17), done.\u001b[K\n",
            "remote: Total 18 (delta 3), reused 0 (delta 0), pack-reused 0\u001b[K\n",
            "Unpacking objects: 100% (18/18), done.\n"
          ]
        }
      ]
    },
    {
      "cell_type": "code",
      "source": [
        "latent_cars = np.load('/content/drive/MyDrive/latents_cars.npy')\n",
        "images = np.load('/content/drive/MyDrive/generated_images_cars.npy')"
      ],
      "metadata": {
        "id": "bTI9iKSEC7sF"
      },
      "execution_count": null,
      "outputs": []
    },
    {
      "cell_type": "code",
      "source": [
        "images = np.transpose(images, [0,2,3,1])"
      ],
      "metadata": {
        "id": "XrD4ib3vGIED"
      },
      "execution_count": null,
      "outputs": []
    },
    {
      "cell_type": "code",
      "source": [
        "from google.colab.patches import cv2_imshow\n",
        "cv2_imshow(images[987]*255)"
      ],
      "metadata": {
        "colab": {
          "base_uri": "https://localhost:8080/",
          "height": 145
        },
        "id": "wciIxNMmEZJV",
        "outputId": "91a3d71e-1de8-4db3-8e0a-e3cbd7634188"
      },
      "execution_count": null,
      "outputs": [
        {
          "output_type": "display_data",
          "data": {
            "image/png": "[encoded data removed]",
            "text/plain": [
              "<PIL.Image.Image image mode=RGB size=128x128 at 0x7F4C496FDDD0>"
            ]
          },
          "metadata": {}
        }
      ]
    },
    {
      "cell_type": "code",
      "source": [
        "! mv \"/content/resnet18-tensorflow/resnet_18.py\" \"/content/resnet_18.py\""
      ],
      "metadata": {
        "id": "jkfBFVeJsD9y"
      },
      "execution_count": null,
      "outputs": []
    },
    {
      "cell_type": "code",
      "source": [
        "from resnet_18 import ResNet18\n",
        "from tensorflow.keras.applications.resnet50 import preprocess_input"
      ],
      "metadata": {
        "id": "hpe6SyktFL3Q"
      },
      "execution_count": null,
      "outputs": []
    },
    {
      "cell_type": "code",
      "source": [
        "inp = tf.keras.layers.Input(shape=(128,128,3))\n",
        "preprocess = preprocess_input(inp)\n",
        "res = ResNet18(include_top=False, weights='imagenet', input_shape=(128,128,3))(preprocess)\n",
        "flat = tf.keras.layers.Flatten()(res)\n",
        "fc1  = tf.keras.layers.Dense(2048)(flat)\n",
        "fc2 = tf.keras.layers.Dense(512)(fc1)\n",
        "out = tf.keras.layers.Dense(128)(fc2)"
      ],
      "metadata": {
        "id": "AvRUnwSRJF4T"
      },
      "execution_count": null,
      "outputs": []
    },
    {
      "cell_type": "code",
      "source": [
        "model = tf.keras.Model(inputs=preprocess, outputs=out)"
      ],
      "metadata": {
        "id": "xjKX15baKBFb"
      },
      "execution_count": null,
      "outputs": []
    },
    {
      "cell_type": "code",
      "source": [
        "from sklearn.model_selection import train_test_split\n",
        "\n",
        "x_train, x_test, y_train, y_test = train_test_split(images, latent_cars, test_size=0.2)"
      ],
      "metadata": {
        "id": "IYf5x5jJNQO_"
      },
      "execution_count": null,
      "outputs": []
    },
    {
      "cell_type": "code",
      "source": [
        "train_ds = tf.data.Dataset.from_tensor_slices((x_train, y_train))\n",
        "val_ds = tf.data.Dataset.from_tensor_slices((x_test, y_test))"
      ],
      "metadata": {
        "id": "TCqgNJ4yKJV8"
      },
      "execution_count": null,
      "outputs": []
    },
    {
      "cell_type": "code",
      "source": [
        "train_ds = train_ds.batch(64).cache().prefetch(tf.data.AUTOTUNE)\n",
        "val_ds = val_ds.batch(64).cache().prefetch(tf.data.AUTOTUNE)"
      ],
      "metadata": {
        "id": "D9COOQfuLVvw"
      },
      "execution_count": null,
      "outputs": []
    },
    {
      "cell_type": "code",
      "source": [
        "model.compile(optimizer='adam', loss=\"logcosh\")"
      ],
      "metadata": {
        "id": "5gGCjstjNMgy"
      },
      "execution_count": null,
      "outputs": []
    },
    {
      "cell_type": "code",
      "source": [
        "model.fit(train_ds, validation_data=val_ds, epochs=7)"
      ],
      "metadata": {
        "colab": {
          "base_uri": "https://localhost:8080/"
        },
        "id": "6fpbC3EpN5sC",
        "outputId": "6c8a74a3-8ec1-4a45-fda6-53a481359e7d"
      },
      "execution_count": null,
      "outputs": [
        {
          "output_type": "stream",
          "name": "stdout",
          "text": [
            "Epoch 1/7\n",
            "104/104 [==============================] - 662s 6s/step - loss: 1.5821 - val_loss: 25.9243\n",
            "Epoch 2/7\n",
            "104/104 [==============================] - 661s 6s/step - loss: 0.3932 - val_loss: 0.5260\n",
            "Epoch 3/7\n",
            "104/104 [==============================] - 661s 6s/step - loss: 0.3798 - val_loss: 0.3871\n",
            "Epoch 4/7\n",
            "104/104 [==============================] - 666s 6s/step - loss: 0.3736 - val_loss: 0.3874\n",
            "Epoch 5/7\n",
            "104/104 [==============================] - 669s 6s/step - loss: 0.3692 - val_loss: 0.3795\n",
            "Epoch 6/7\n",
            "104/104 [==============================] - 671s 6s/step - loss: 0.3653 - val_loss: 0.3733\n",
            "Epoch 7/7\n",
            "104/104 [==============================] - 676s 7s/step - loss: 0.3619 - val_loss: 0.3729\n"
          ]
        },
        {
          "output_type": "execute_result",
          "data": {
            "text/plain": [
              "<keras.callbacks.History at 0x7f4c4f9bdf90>"
            ]
          },
          "metadata": {},
          "execution_count": 17
        }
      ]
    },
    {
      "cell_type": "code",
      "source": [
        "model.save(\"/content/drive/MyDrive/saved_net/\")"
      ],
      "metadata": {
        "colab": {
          "base_uri": "https://localhost:8080/"
        },
        "id": "OVNNz7KXObtq",
        "outputId": "4af00cd0-c2a4-4b62-9ba3-a417a3088503"
      },
      "execution_count": null,
      "outputs": [
        {
          "output_type": "stream",
          "name": "stdout",
          "text": [
            "INFO:tensorflow:Assets written to: /content/drive/MyDrive/saved_net/assets\n"
          ]
        }
      ]
    },
    {
      "cell_type": "code",
      "source": [
        "model = tf.keras.models.load_model(\"/content/drive/MyDrive/saved_net\")"
      ],
      "metadata": {
        "id": "gLcvsm2eleaT"
      },
      "execution_count": null,
      "outputs": []
    },
    {
      "cell_type": "code",
      "source": [
        "tf.reduce_mean(tf.losses.mean_squared_error(model.predict(images[:1000]), latent_cars[:1000]))"
      ],
      "metadata": {
        "colab": {
          "base_uri": "https://localhost:8080/"
        },
        "id": "3ZNFc5fcmOe5",
        "outputId": "232c0aed-e40e-4367-b816-ecc49baa3eee"
      },
      "execution_count": null,
      "outputs": [
        {
          "output_type": "execute_result",
          "data": {
            "text/plain": [
              "<tf.Tensor: shape=(), dtype=float32, numpy=0.9703874>"
            ]
          },
          "metadata": {},
          "execution_count": 18
        }
      ]
    },
    {
      "cell_type": "code",
      "source": [
        "! unzip \"/content/lat images.zip\" -d \"/content/\"\n",
        "! unzip \"/content/old.zip\" -d \"/content/\""
      ],
      "metadata": {
        "colab": {
          "base_uri": "https://localhost:8080/"
        },
        "id": "VNKMWbsbQxBx",
        "outputId": "0b99d5c7-569f-4472-8dba-04b59584347a"
      },
      "execution_count": null,
      "outputs": [
        {
          "output_type": "stream",
          "name": "stdout",
          "text": [
            "Archive:  /content/lat images.zip\n",
            "   creating: /content/lat images/\n",
            "  inflating: /content/lat images/462.jpg  \n",
            "  inflating: /content/lat images/07.jpg  \n",
            "  inflating: /content/lat images/684.jpg  \n",
            "  inflating: /content/lat images/02.jpg  \n",
            "  inflating: /content/lat images/75.jpg  \n",
            "  inflating: /content/lat images/12.jpg  \n",
            "  inflating: /content/lat images/1325.jpg  \n",
            "  inflating: /content/lat images/798.jpg  \n",
            "  inflating: /content/lat images/764.jpg  \n",
            "  inflating: /content/lat images/2886.jpg  \n",
            "  inflating: /content/lat images/1008.jpg  \n",
            "  inflating: /content/lat images/841.jpg  \n",
            "  inflating: /content/lat images/997.jpg  \n",
            "  inflating: /content/lat images/1493.jpg  \n",
            "  inflating: /content/lat images/2925.jpg  \n",
            "Archive:  /content/old.zip\n",
            "   creating: /content/old/\n",
            "  inflating: /content/old/3.jpg      \n",
            "  inflating: /content/old/5.jpg      \n",
            "  inflating: /content/old/.jpg       \n",
            "  inflating: /content/old/6.jpg      \n",
            "  inflating: /content/old/2.jpg      \n",
            "  inflating: /content/old/1.jpg      \n",
            "  inflating: /content/old/7.jpg      \n",
            "  inflating: /content/old/4.jpg      \n"
          ]
        }
      ]
    },
    {
      "cell_type": "code",
      "source": [
        "import os\n",
        "import cv2\n",
        "lat_arr = {}\n",
        "old_arr = {}\n",
        "for img_name in os.listdir(\"/content/lat images\"):\n",
        "  img_path = os.path.join(\"/content/lat images/\", img_name)\n",
        "  img = cv2.imread(img_path)\n",
        "  img = cv2.resize(img, (128,128))\n",
        "  img = np.array(img).astype('float')/255\n",
        "  l = model.predict(np.expand_dims(img,0))[0]\n",
        "  lat_arr[img_name.split('.')[0]] = l\n",
        "\n",
        "for img_name in os.listdir(\"/content/old\"):\n",
        "  img_path = os.path.join(\"/content/old/\", img_name)\n",
        "  img = cv2.imread(img_path)\n",
        "  img = cv2.resize(img, (128,128))\n",
        "  img = np.array(img).astype('float')/255\n",
        "  l = model.predict(np.expand_dims(img,0))[0]\n",
        "  old_arr[img_name.split('.')[0]] = l"
      ],
      "metadata": {
        "id": "SH_IeW3BRF6Q"
      },
      "execution_count": null,
      "outputs": []
    },
    {
      "cell_type": "code",
      "source": [
        "w_arr = []\n",
        "for i in lat_arr.keys():\n",
        "  for j in old_arr.keys():\n",
        "    l1 = lat_arr[i]\n",
        "    l2 = old_arr[j]\n",
        "    w = (l1+l2)/2\n",
        "    w_arr.append(w)"
      ],
      "metadata": {
        "id": "MlcAroIwSXYM"
      },
      "execution_count": null,
      "outputs": []
    },
    {
      "cell_type": "code",
      "source": [
        "np.array(w_arr).shape"
      ],
      "metadata": {
        "colab": {
          "base_uri": "https://localhost:8080/"
        },
        "id": "Kx2YQlldKm41",
        "outputId": "82eb9a51-6336-4bd0-ef10-001f6abcdf5d"
      },
      "execution_count": null,
      "outputs": [
        {
          "output_type": "execute_result",
          "data": {
            "text/plain": [
              "(105, 128)"
            ]
          },
          "metadata": {},
          "execution_count": 13
        }
      ]
    },
    {
      "cell_type": "code",
      "source": [
        "np.save('lat1.npy',w_arr)"
      ],
      "metadata": {
        "id": "5SdzpwTNTVV1"
      },
      "execution_count": null,
      "outputs": []
    }
  ]
}